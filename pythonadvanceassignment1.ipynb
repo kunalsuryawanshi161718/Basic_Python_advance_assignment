{
 "cells": [
  {
   "cell_type": "markdown",
   "id": "584483d9",
   "metadata": {},
   "source": [
    "## Q1. What is the purpose of Python's OOP?"
   ]
  },
  {
   "cell_type": "markdown",
   "id": "d72d555d",
   "metadata": {},
   "source": [
    "Ans:- The main purpose of object oriented programing is to reduce the complexity of program by dividing it into the multiple functions according to multiple task.Object Oriented Programming is a way of computer programming using the idea of “objects” to represents data and methods. It is also, an approach used for creating neat and reusable code instead of a redundant one. the program is divided into self-contained objects or several mini-programs. Every Individual object represents a different part of the application having its own logic and data to communicate within themselves.\n",
    "several modules can be created using data and method which can be reusable further after calling.It aims to implement real-world entities like inheritance, polymorphisms, encapsulation, etc. in the programming.\n",
    "The main concept of OOPs is to bind the data and the functions that work on that together as a single unit so that no other part of the code can access this data."
   ]
  },
  {
   "cell_type": "markdown",
   "id": "63e882ec",
   "metadata": {},
   "source": [
    "## Q2. Where does an inheritance search look for an attribute?"
   ]
  },
  {
   "cell_type": "markdown",
   "id": "37acb0f5",
   "metadata": {},
   "source": [
    "Ans:- An inheritence 1st look for instence attribute in its own class and if it is not found it will search for that instence attribute in the parant class or super class."
   ]
  },
  {
   "cell_type": "markdown",
   "id": "e4c55e46",
   "metadata": {},
   "source": [
    "## Q3. How do you distinguish between a class object and an instance object?"
   ]
  },
  {
   "cell_type": "markdown",
   "id": "cdb1d0ff",
   "metadata": {},
   "source": [
    "**Ans:** The differences between a class object and an instance object are:\n",
    "1. Every class object is an instance of class and every instance of class is an instance object \n",
    "2. Seperate memory is allocated for each object whenever an object is created. but for a class this doesnot happens.\n",
    "3. A Class is created once. Many objects are created using a class.\n",
    "4. As Classes have no allocated memory. they can't be manipulated. but objects can be manipulated."
   ]
  },
  {
   "cell_type": "markdown",
   "id": "02d73df0",
   "metadata": {},
   "source": [
    "## Q4. What makes the first argument in a class’s method function special?"
   ]
  },
  {
   "cell_type": "markdown",
   "id": "b7e800d3",
   "metadata": {},
   "source": [
    "Ans: The first argument of every class method, including init, is always a reference to the current instance of the class. By convention, this argument is always named self. In the init method, self refers to the newly created object; in other class methods, it refers to the instance whose method was called."
   ]
  },
  {
   "cell_type": "markdown",
   "id": "65743f66",
   "metadata": {},
   "source": [
    "## Q5. What is the purpose of the init method?"
   ]
  },
  {
   "cell_type": "markdown",
   "id": "0a0d432b",
   "metadata": {},
   "source": [
    "Ans: Init method also called as constructor.It is used when you initialize a method inside a class. "
   ]
  },
  {
   "cell_type": "markdown",
   "id": "9c5fa66f",
   "metadata": {},
   "source": [
    "## Q6. What is the process for creating a class instance?"
   ]
  },
  {
   "cell_type": "markdown",
   "id": "3b842758",
   "metadata": {},
   "source": [
    "Ans: - **Ans:** To create a class instance, we need to call the class by its name and pass the arguments to the class, which its **`init`** method accepts."
   ]
  },
  {
   "cell_type": "markdown",
   "id": "4add3e7c",
   "metadata": {},
   "source": [
    "## Q7. What is the process for creating a class?"
   ]
  },
  {
   "cell_type": "markdown",
   "id": "92268976",
   "metadata": {},
   "source": [
    "Ans: The syntex of creating a class is :\n",
    "\n",
    "\n",
    "**`class <classname>:`**"
   ]
  },
  {
   "cell_type": "code",
   "execution_count": 8,
   "id": "2eabcda3",
   "metadata": {},
   "outputs": [],
   "source": [
    "class car:\n",
    "    pass\n",
    "\n"
   ]
  },
  {
   "cell_type": "markdown",
   "id": "362a4800",
   "metadata": {},
   "source": [
    "## Q8. How would you define the superclasses of a class?"
   ]
  },
  {
   "cell_type": "markdown",
   "id": "edf3c089",
   "metadata": {},
   "source": [
    "Superclass/Parent class is given as a arugment to the child class\n",
    "\n",
    "Example: class Employee(Person): Here child class Employee inherits attributes and methofs from Superclass/Parent Person"
   ]
  },
  {
   "cell_type": "code",
   "execution_count": null,
   "id": "9e4d2a24",
   "metadata": {},
   "outputs": [],
   "source": []
  }
 ],
 "metadata": {
  "kernelspec": {
   "display_name": "Python 3",
   "language": "python",
   "name": "python3"
  },
  "language_info": {
   "codemirror_mode": {
    "name": "ipython",
    "version": 3
   },
   "file_extension": ".py",
   "mimetype": "text/x-python",
   "name": "python",
   "nbconvert_exporter": "python",
   "pygments_lexer": "ipython3",
   "version": "3.8.8"
  }
 },
 "nbformat": 4,
 "nbformat_minor": 5
}
